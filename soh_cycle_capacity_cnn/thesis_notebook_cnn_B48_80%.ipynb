{
 "cells": [
  {
   "cell_type": "markdown",
   "metadata": {},
   "source": [
    "IMPORTING THE REQUIRED PACKAGES"
   ]
  },
  {
   "cell_type": "code",
   "execution_count": 471,
   "metadata": {},
   "outputs": [],
   "source": [
    "import numpy as np\n",
    "import tensorflow as tf\n",
    "\n",
    "np.random.seed(42)\n",
    "tf.random.set_seed(42)\n"
   ]
  },
  {
   "cell_type": "code",
   "execution_count": 472,
   "metadata": {},
   "outputs": [],
   "source": [
    "\n",
    "import pandas as pd\n",
    "import matplotlib.pyplot as plt\n",
    "# import numpy as np\n",
    "# import tensorflow as tf\n",
    "import keras\n",
    "import os\n",
    "import glob\n",
    "import seaborn as sns\n",
    "from mpl_toolkits.mplot3d import Axes3D\n",
    "import math\n",
    "\n",
    "import tensorflow as tf\n",
    "from sklearn.preprocessing import MinMaxScaler\n",
    "from sklearn.metrics import mean_squared_error, mean_absolute_error\n",
    "#from keras.preprocessing.sequence import TimeseriesGenerator\n",
    "from tensorflow.keras.preprocessing.sequence import TimeseriesGenerator\n",
    "\n",
    "from keras.models import Sequential\n",
    "from keras.layers import Dense, LSTM, SimpleRNN, Dropout\n",
    "from keras.optimizers import RMSprop\n",
    "from keras.callbacks import ModelCheckpoint, EarlyStopping\n",
    "from keras.models import model_from_json\n",
    "from keras import optimizers"
   ]
  },
  {
   "cell_type": "code",
   "execution_count": 473,
   "metadata": {},
   "outputs": [
    {
     "name": "stdout",
     "output_type": "stream",
     "text": [
      "['B05_discharge_soh.csv', 'B07_discharge_soh.csv', 'B18_discharge_soh.csv', 'B33_discharge_soh.csv', 'B34_discharge_soh.csv', 'B46_discharge_soh.csv', 'B47_discharge_soh.csv', 'B48_discharge_soh.csv']\n",
      "The number of dataset : 8\n"
     ]
    }
   ],
   "source": [
    "dir = 'dataset'\n",
    "listdir = os.listdir(dir)\n",
    "\n",
    "print(listdir)\n",
    "print(\"The number of dataset :\", len(listdir))"
   ]
  },
  {
   "cell_type": "code",
   "execution_count": 474,
   "metadata": {},
   "outputs": [],
   "source": [
    "num = ['B05', 'B07', 'B18', 'B33', 'B34', 'B46', 'B47', 'B48']\n",
    "for i in range(len(listdir)):\n",
    "    vector = np.zeros((1,3))\n",
    "    path = os.path.join(os.getcwd(), 'dataset/', num[i] + '_discharge_soh.csv')\n",
    "    csv = pd.read_csv(path)\n",
    "    df = pd.DataFrame(csv)\n",
    "    \n",
    "    vec = df[['cycle', 'capacity', 'SOH']]\n",
    "    \n",
    "    globals()['data_{}'.format(num[i])] = vec"
   ]
  },
  {
   "cell_type": "code",
   "execution_count": 475,
   "metadata": {},
   "outputs": [
    {
     "data": {
      "text/html": [
       "<div>\n",
       "<style scoped>\n",
       "    .dataframe tbody tr th:only-of-type {\n",
       "        vertical-align: middle;\n",
       "    }\n",
       "\n",
       "    .dataframe tbody tr th {\n",
       "        vertical-align: top;\n",
       "    }\n",
       "\n",
       "    .dataframe thead th {\n",
       "        text-align: right;\n",
       "    }\n",
       "</style>\n",
       "<table border=\"1\" class=\"dataframe\">\n",
       "  <thead>\n",
       "    <tr style=\"text-align: right;\">\n",
       "      <th></th>\n",
       "      <th>terminal_voltage</th>\n",
       "      <th>terminal_current</th>\n",
       "      <th>temperature</th>\n",
       "      <th>charge_current</th>\n",
       "      <th>charge_voltage</th>\n",
       "      <th>time</th>\n",
       "      <th>capacity</th>\n",
       "      <th>cycle</th>\n",
       "      <th>SOH</th>\n",
       "    </tr>\n",
       "  </thead>\n",
       "  <tbody>\n",
       "    <tr>\n",
       "      <th>0</th>\n",
       "      <td>4.191492</td>\n",
       "      <td>-0.004902</td>\n",
       "      <td>24.330034</td>\n",
       "      <td>-0.0006</td>\n",
       "      <td>0.000</td>\n",
       "      <td>0.000</td>\n",
       "      <td>1.856487</td>\n",
       "      <td>1</td>\n",
       "      <td>0.928244</td>\n",
       "    </tr>\n",
       "    <tr>\n",
       "      <th>1</th>\n",
       "      <td>4.190749</td>\n",
       "      <td>-0.001478</td>\n",
       "      <td>24.325993</td>\n",
       "      <td>-0.0006</td>\n",
       "      <td>4.206</td>\n",
       "      <td>16.781</td>\n",
       "      <td>1.856487</td>\n",
       "      <td>1</td>\n",
       "      <td>0.928244</td>\n",
       "    </tr>\n",
       "    <tr>\n",
       "      <th>2</th>\n",
       "      <td>3.974871</td>\n",
       "      <td>-2.012528</td>\n",
       "      <td>24.389085</td>\n",
       "      <td>-1.9982</td>\n",
       "      <td>3.062</td>\n",
       "      <td>35.703</td>\n",
       "      <td>1.856487</td>\n",
       "      <td>1</td>\n",
       "      <td>0.928244</td>\n",
       "    </tr>\n",
       "    <tr>\n",
       "      <th>3</th>\n",
       "      <td>3.951717</td>\n",
       "      <td>-2.013979</td>\n",
       "      <td>24.544752</td>\n",
       "      <td>-1.9982</td>\n",
       "      <td>3.030</td>\n",
       "      <td>53.781</td>\n",
       "      <td>1.856487</td>\n",
       "      <td>1</td>\n",
       "      <td>0.928244</td>\n",
       "    </tr>\n",
       "    <tr>\n",
       "      <th>4</th>\n",
       "      <td>3.934352</td>\n",
       "      <td>-2.011144</td>\n",
       "      <td>24.731385</td>\n",
       "      <td>-1.9982</td>\n",
       "      <td>3.011</td>\n",
       "      <td>71.922</td>\n",
       "      <td>1.856487</td>\n",
       "      <td>1</td>\n",
       "      <td>0.928244</td>\n",
       "    </tr>\n",
       "    <tr>\n",
       "      <th>...</th>\n",
       "      <td>...</td>\n",
       "      <td>...</td>\n",
       "      <td>...</td>\n",
       "      <td>...</td>\n",
       "      <td>...</td>\n",
       "      <td>...</td>\n",
       "      <td>...</td>\n",
       "      <td>...</td>\n",
       "      <td>...</td>\n",
       "    </tr>\n",
       "    <tr>\n",
       "      <th>50280</th>\n",
       "      <td>3.579262</td>\n",
       "      <td>-0.001569</td>\n",
       "      <td>34.864823</td>\n",
       "      <td>0.0006</td>\n",
       "      <td>0.000</td>\n",
       "      <td>2781.312</td>\n",
       "      <td>1.325079</td>\n",
       "      <td>168</td>\n",
       "      <td>0.662540</td>\n",
       "    </tr>\n",
       "    <tr>\n",
       "      <th>50281</th>\n",
       "      <td>3.581964</td>\n",
       "      <td>-0.003067</td>\n",
       "      <td>34.814770</td>\n",
       "      <td>0.0006</td>\n",
       "      <td>0.000</td>\n",
       "      <td>2791.062</td>\n",
       "      <td>1.325079</td>\n",
       "      <td>168</td>\n",
       "      <td>0.662540</td>\n",
       "    </tr>\n",
       "    <tr>\n",
       "      <th>50282</th>\n",
       "      <td>3.584484</td>\n",
       "      <td>-0.003079</td>\n",
       "      <td>34.676258</td>\n",
       "      <td>0.0006</td>\n",
       "      <td>0.000</td>\n",
       "      <td>2800.828</td>\n",
       "      <td>1.325079</td>\n",
       "      <td>168</td>\n",
       "      <td>0.662540</td>\n",
       "    </tr>\n",
       "    <tr>\n",
       "      <th>50283</th>\n",
       "      <td>3.587336</td>\n",
       "      <td>0.001219</td>\n",
       "      <td>34.565580</td>\n",
       "      <td>0.0006</td>\n",
       "      <td>0.000</td>\n",
       "      <td>2810.640</td>\n",
       "      <td>1.325079</td>\n",
       "      <td>168</td>\n",
       "      <td>0.662540</td>\n",
       "    </tr>\n",
       "    <tr>\n",
       "      <th>50284</th>\n",
       "      <td>3.589937</td>\n",
       "      <td>-0.000583</td>\n",
       "      <td>34.405920</td>\n",
       "      <td>0.0006</td>\n",
       "      <td>0.000</td>\n",
       "      <td>2820.390</td>\n",
       "      <td>1.325079</td>\n",
       "      <td>168</td>\n",
       "      <td>0.662540</td>\n",
       "    </tr>\n",
       "  </tbody>\n",
       "</table>\n",
       "<p>50285 rows × 9 columns</p>\n",
       "</div>"
      ],
      "text/plain": [
       "       terminal_voltage  terminal_current  temperature  charge_current  \\\n",
       "0              4.191492         -0.004902    24.330034         -0.0006   \n",
       "1              4.190749         -0.001478    24.325993         -0.0006   \n",
       "2              3.974871         -2.012528    24.389085         -1.9982   \n",
       "3              3.951717         -2.013979    24.544752         -1.9982   \n",
       "4              3.934352         -2.011144    24.731385         -1.9982   \n",
       "...                 ...               ...          ...             ...   \n",
       "50280          3.579262         -0.001569    34.864823          0.0006   \n",
       "50281          3.581964         -0.003067    34.814770          0.0006   \n",
       "50282          3.584484         -0.003079    34.676258          0.0006   \n",
       "50283          3.587336          0.001219    34.565580          0.0006   \n",
       "50284          3.589937         -0.000583    34.405920          0.0006   \n",
       "\n",
       "       charge_voltage      time  capacity  cycle       SOH  \n",
       "0               0.000     0.000  1.856487      1  0.928244  \n",
       "1               4.206    16.781  1.856487      1  0.928244  \n",
       "2               3.062    35.703  1.856487      1  0.928244  \n",
       "3               3.030    53.781  1.856487      1  0.928244  \n",
       "4               3.011    71.922  1.856487      1  0.928244  \n",
       "...               ...       ...       ...    ...       ...  \n",
       "50280           0.000  2781.312  1.325079    168  0.662540  \n",
       "50281           0.000  2791.062  1.325079    168  0.662540  \n",
       "50282           0.000  2800.828  1.325079    168  0.662540  \n",
       "50283           0.000  2810.640  1.325079    168  0.662540  \n",
       "50284           0.000  2820.390  1.325079    168  0.662540  \n",
       "\n",
       "[50285 rows x 9 columns]"
      ]
     },
     "execution_count": 475,
     "metadata": {},
     "output_type": "execute_result"
    }
   ],
   "source": [
    "data = pd.read_csv('dataset/B05_discharge_soh.csv')\n",
    "df = pd.DataFrame(data)\n",
    "df"
   ]
  },
  {
   "cell_type": "code",
   "execution_count": 476,
   "metadata": {},
   "outputs": [
    {
     "data": {
      "text/html": [
       "<div>\n",
       "<style scoped>\n",
       "    .dataframe tbody tr th:only-of-type {\n",
       "        vertical-align: middle;\n",
       "    }\n",
       "\n",
       "    .dataframe tbody tr th {\n",
       "        vertical-align: top;\n",
       "    }\n",
       "\n",
       "    .dataframe thead th {\n",
       "        text-align: right;\n",
       "    }\n",
       "</style>\n",
       "<table border=\"1\" class=\"dataframe\">\n",
       "  <thead>\n",
       "    <tr style=\"text-align: right;\">\n",
       "      <th></th>\n",
       "      <th>cycle</th>\n",
       "      <th>capacity</th>\n",
       "      <th>SOH</th>\n",
       "    </tr>\n",
       "  </thead>\n",
       "  <tbody>\n",
       "    <tr>\n",
       "      <th>0</th>\n",
       "      <td>1</td>\n",
       "      <td>1.856487</td>\n",
       "      <td>0.928244</td>\n",
       "    </tr>\n",
       "    <tr>\n",
       "      <th>1</th>\n",
       "      <td>1</td>\n",
       "      <td>1.856487</td>\n",
       "      <td>0.928244</td>\n",
       "    </tr>\n",
       "    <tr>\n",
       "      <th>2</th>\n",
       "      <td>1</td>\n",
       "      <td>1.856487</td>\n",
       "      <td>0.928244</td>\n",
       "    </tr>\n",
       "    <tr>\n",
       "      <th>3</th>\n",
       "      <td>1</td>\n",
       "      <td>1.856487</td>\n",
       "      <td>0.928244</td>\n",
       "    </tr>\n",
       "    <tr>\n",
       "      <th>4</th>\n",
       "      <td>1</td>\n",
       "      <td>1.856487</td>\n",
       "      <td>0.928244</td>\n",
       "    </tr>\n",
       "    <tr>\n",
       "      <th>...</th>\n",
       "      <td>...</td>\n",
       "      <td>...</td>\n",
       "      <td>...</td>\n",
       "    </tr>\n",
       "    <tr>\n",
       "      <th>50280</th>\n",
       "      <td>168</td>\n",
       "      <td>1.325079</td>\n",
       "      <td>0.662540</td>\n",
       "    </tr>\n",
       "    <tr>\n",
       "      <th>50281</th>\n",
       "      <td>168</td>\n",
       "      <td>1.325079</td>\n",
       "      <td>0.662540</td>\n",
       "    </tr>\n",
       "    <tr>\n",
       "      <th>50282</th>\n",
       "      <td>168</td>\n",
       "      <td>1.325079</td>\n",
       "      <td>0.662540</td>\n",
       "    </tr>\n",
       "    <tr>\n",
       "      <th>50283</th>\n",
       "      <td>168</td>\n",
       "      <td>1.325079</td>\n",
       "      <td>0.662540</td>\n",
       "    </tr>\n",
       "    <tr>\n",
       "      <th>50284</th>\n",
       "      <td>168</td>\n",
       "      <td>1.325079</td>\n",
       "      <td>0.662540</td>\n",
       "    </tr>\n",
       "  </tbody>\n",
       "</table>\n",
       "<p>50285 rows × 3 columns</p>\n",
       "</div>"
      ],
      "text/plain": [
       "       cycle  capacity       SOH\n",
       "0          1  1.856487  0.928244\n",
       "1          1  1.856487  0.928244\n",
       "2          1  1.856487  0.928244\n",
       "3          1  1.856487  0.928244\n",
       "4          1  1.856487  0.928244\n",
       "...      ...       ...       ...\n",
       "50280    168  1.325079  0.662540\n",
       "50281    168  1.325079  0.662540\n",
       "50282    168  1.325079  0.662540\n",
       "50283    168  1.325079  0.662540\n",
       "50284    168  1.325079  0.662540\n",
       "\n",
       "[50285 rows x 3 columns]"
      ]
     },
     "execution_count": 476,
     "metadata": {},
     "output_type": "execute_result"
    }
   ],
   "source": [
    "data_B05"
   ]
  },
  {
   "cell_type": "code",
   "execution_count": 477,
   "metadata": {},
   "outputs": [
    {
     "name": "stdout",
     "output_type": "stream",
     "text": [
      "Shape of data : (50285, 3)\n",
      "Shape of data : (50285, 3)\n",
      "Shape of data : (34866, 3)\n",
      "Shape of data : (42200, 3)\n",
      "Shape of data : (45909, 3)\n",
      "Shape of data : (23478, 3)\n",
      "Shape of data : (23478, 3)\n",
      "Shape of data : (23478, 3)\n"
     ]
    }
   ],
   "source": [
    "for i in range(len(listdir)):\n",
    "    print(\"Shape of data :\", np.shape(globals()['data_{}'.format(num[i])]))"
   ]
  },
  {
   "cell_type": "code",
   "execution_count": 478,
   "metadata": {},
   "outputs": [],
   "source": [
    "from sklearn.preprocessing import MinMaxScaler\n",
    "\n",
    "scaler = MinMaxScaler()\n",
    "data_B48[[\"cycle\", \"capacity\"]] = scaler.fit_transform(data_B48[[\"cycle\", \"capacity\"]])\n"
   ]
  },
  {
   "cell_type": "code",
   "execution_count": 479,
   "metadata": {},
   "outputs": [
    {
     "name": "stdout",
     "output_type": "stream",
     "text": [
      "['B05_discharge_soh.csv', 'B07_discharge_soh.csv', 'B18_discharge_soh.csv', 'B33_discharge_soh.csv', 'B34_discharge_soh.csv', 'B46_discharge_soh.csv', 'B47_discharge_soh.csv', 'B48_discharge_soh.csv']\n"
     ]
    },
    {
     "data": {
      "text/plain": [
       "(23478, 3)"
      ]
     },
     "execution_count": 479,
     "metadata": {},
     "output_type": "execute_result"
    }
   ],
   "source": [
    "print(listdir)\n",
    "dataset = data_B48[[\"cycle\", \"capacity\", \"SOH\"]].values\n",
    "cycle = data_B48['cycle']\n",
    "\n",
    "dataset = np.array(dataset)\n",
    "#dataset = dataset.reshape((len(dataset),1))\n",
    "dataset.shape"
   ]
  },
  {
   "cell_type": "markdown",
   "metadata": {},
   "source": [
    "CREATING TESTS AND TRAIN DATASETS"
   ]
  },
  {
   "cell_type": "code",
   "execution_count": 480,
   "metadata": {},
   "outputs": [
    {
     "name": "stdout",
     "output_type": "stream",
     "text": [
      "18782 4696\n"
     ]
    }
   ],
   "source": [
    "train_size = int(len(dataset) * 0.8)\n",
    "# train_size = int(len(dataset) * 0.5)\n",
    "test_size = len(dataset) - train_size\n",
    "train, test = dataset[0:train_size,:], dataset[train_size:len(dataset),:]\n",
    "print(len(train), len(test))"
   ]
  },
  {
   "cell_type": "code",
   "execution_count": 481,
   "metadata": {},
   "outputs": [],
   "source": [
    "def create_dataset(dataset, look_back=1):\n",
    "    dataX, dataY = [], []\n",
    "    for i in range(len(dataset) - look_back):\n",
    "        a = dataset[i:(i + look_back), :-1]\n",
    "        dataX.append(a)\n",
    "        dataY.append(dataset[i + look_back, -1])\n",
    "    print(len(dataY))\n",
    "    return np.array(dataX), np.array(dataY)"
   ]
  },
  {
   "cell_type": "code",
   "execution_count": 482,
   "metadata": {},
   "outputs": [],
   "source": [
    "def create_dataset_no_lookback(dataset):\n",
    "    # Inputs: all columns except the last one (cycle and capacity)\n",
    "    dataX = dataset[:, :-1]\n",
    "    \n",
    "    # Target: the last column (SOH)\n",
    "    dataY = dataset[:, -1]\n",
    "    \n",
    "    return np.array(dataX), np.array(dataY)\n"
   ]
  },
  {
   "cell_type": "code",
   "execution_count": 483,
   "metadata": {},
   "outputs": [
    {
     "name": "stdout",
     "output_type": "stream",
     "text": [
      "18779\n",
      "4693\n"
     ]
    }
   ],
   "source": [
    "look_back = 3\n",
    "trainX, trainY = create_dataset(train, look_back)\n",
    "testX, testY = create_dataset(test, look_back)"
   ]
  },
  {
   "cell_type": "code",
   "execution_count": 484,
   "metadata": {},
   "outputs": [],
   "source": [
    "# Assuming `dataset` has been preprocessed and contains [cycle, capacity, SoH]\n",
    "# dataX, dataY = create_dataset_no_lookback(dataset)\n",
    "\n",
    "# # Split into training and testing sets\n",
    "# train_size = int(len(dataX) * 0.5)\n",
    "# trainX, testX = dataX[:train_size], dataX[train_size:]\n",
    "# trainY, testY = dataY[:train_size], dataY[train_size:]\n",
    "\n",
    "# print(\"TrainX shape:\", trainX.shape)\n",
    "# print(\"TrainY shape:\", trainY.shape)\n",
    "# print(\"TestX shape:\", testX.shape)\n",
    "# print(\"TestY shape:\", testY.shape)\n"
   ]
  },
  {
   "cell_type": "code",
   "execution_count": 485,
   "metadata": {},
   "outputs": [
    {
     "name": "stdout",
     "output_type": "stream",
     "text": [
      "[[[0.         1.        ]\n",
      "  [0.         1.        ]\n",
      "  [0.         1.        ]]\n",
      "\n",
      " [[0.         1.        ]\n",
      "  [0.         1.        ]\n",
      "  [0.         1.        ]]\n",
      "\n",
      " [[0.         1.        ]\n",
      "  [0.         1.        ]\n",
      "  [0.         1.        ]]\n",
      "\n",
      " ...\n",
      "\n",
      " [[0.77142857 0.30913575]\n",
      "  [0.77142857 0.30913575]\n",
      "  [0.77142857 0.30913575]]\n",
      "\n",
      " [[0.77142857 0.30913575]\n",
      "  [0.77142857 0.30913575]\n",
      "  [0.77142857 0.30913575]]\n",
      "\n",
      " [[0.77142857 0.30913575]\n",
      "  [0.77142857 0.30913575]\n",
      "  [0.77142857 0.30913575]]]\n",
      "(4693, 3, 2)\n"
     ]
    }
   ],
   "source": [
    "\n",
    "# #for cnn SoH cycle capacity and lookback\n",
    "trainX = np.reshape(trainX, (trainX.shape[0], trainX.shape[1], trainX.shape[2]))\n",
    "testX = np.reshape(testX, (testX.shape[0], trainX.shape[1], testX.shape[2]))\n",
    "print(trainX)\n",
    "print(testX.shape)"
   ]
  },
  {
   "cell_type": "code",
   "execution_count": 486,
   "metadata": {},
   "outputs": [
    {
     "name": "stdout",
     "output_type": "stream",
     "text": [
      "(18779, 3, 2)\n",
      "(4693, 3, 2)\n",
      "Epoch 1/100\n"
     ]
    },
    {
     "name": "stderr",
     "output_type": "stream",
     "text": [
      "c:\\Users\\sidar\\AppData\\Local\\Programs\\Python\\Python312\\Lib\\site-packages\\keras\\src\\layers\\convolutional\\base_conv.py:107: UserWarning: Do not pass an `input_shape`/`input_dim` argument to a layer. When using Sequential models, prefer using an `Input(shape)` object as the first layer in the model instead.\n",
      "  super().__init__(activity_regularizer=activity_regularizer, **kwargs)\n"
     ]
    },
    {
     "name": "stdout",
     "output_type": "stream",
     "text": [
      "\u001b[1m939/939\u001b[0m \u001b[32m━━━━━━━━━━━━━━━━━━━━\u001b[0m\u001b[37m\u001b[0m \u001b[1m2s\u001b[0m 1ms/step - loss: 0.0713 - val_loss: 0.0305\n",
      "Epoch 2/100\n",
      "\u001b[1m939/939\u001b[0m \u001b[32m━━━━━━━━━━━━━━━━━━━━\u001b[0m\u001b[37m\u001b[0m \u001b[1m1s\u001b[0m 1ms/step - loss: 0.0110 - val_loss: 0.0301\n",
      "Epoch 3/100\n",
      "\u001b[1m939/939\u001b[0m \u001b[32m━━━━━━━━━━━━━━━━━━━━\u001b[0m\u001b[37m\u001b[0m \u001b[1m1s\u001b[0m 1ms/step - loss: 0.0105 - val_loss: 0.0264\n",
      "Epoch 4/100\n",
      "\u001b[1m939/939\u001b[0m \u001b[32m━━━━━━━━━━━━━━━━━━━━\u001b[0m\u001b[37m\u001b[0m \u001b[1m1s\u001b[0m 2ms/step - loss: 0.0064 - val_loss: 0.0281\n",
      "Epoch 5/100\n",
      "\u001b[1m939/939\u001b[0m \u001b[32m━━━━━━━━━━━━━━━━━━━━\u001b[0m\u001b[37m\u001b[0m \u001b[1m1s\u001b[0m 2ms/step - loss: 0.0060 - val_loss: 0.0253\n",
      "Epoch 6/100\n",
      "\u001b[1m939/939\u001b[0m \u001b[32m━━━━━━━━━━━━━━━━━━━━\u001b[0m\u001b[37m\u001b[0m \u001b[1m1s\u001b[0m 1ms/step - loss: 0.0055 - val_loss: 0.0203\n",
      "Epoch 7/100\n",
      "\u001b[1m939/939\u001b[0m \u001b[32m━━━━━━━━━━━━━━━━━━━━\u001b[0m\u001b[37m\u001b[0m \u001b[1m1s\u001b[0m 1ms/step - loss: 0.0055 - val_loss: 0.0201\n",
      "Epoch 8/100\n",
      "\u001b[1m939/939\u001b[0m \u001b[32m━━━━━━━━━━━━━━━━━━━━\u001b[0m\u001b[37m\u001b[0m \u001b[1m1s\u001b[0m 1ms/step - loss: 0.0062 - val_loss: 0.0229\n",
      "Epoch 9/100\n",
      "\u001b[1m939/939\u001b[0m \u001b[32m━━━━━━━━━━━━━━━━━━━━\u001b[0m\u001b[37m\u001b[0m \u001b[1m1s\u001b[0m 1ms/step - loss: 0.0054 - val_loss: 0.0179\n",
      "Epoch 10/100\n",
      "\u001b[1m939/939\u001b[0m \u001b[32m━━━━━━━━━━━━━━━━━━━━\u001b[0m\u001b[37m\u001b[0m \u001b[1m1s\u001b[0m 1ms/step - loss: 0.0050 - val_loss: 0.0157\n",
      "Epoch 11/100\n",
      "\u001b[1m939/939\u001b[0m \u001b[32m━━━━━━━━━━━━━━━━━━━━\u001b[0m\u001b[37m\u001b[0m \u001b[1m1s\u001b[0m 1ms/step - loss: 0.0051 - val_loss: 0.0154\n",
      "Epoch 12/100\n",
      "\u001b[1m939/939\u001b[0m \u001b[32m━━━━━━━━━━━━━━━━━━━━\u001b[0m\u001b[37m\u001b[0m \u001b[1m1s\u001b[0m 1ms/step - loss: 0.0049 - val_loss: 0.0206\n",
      "Epoch 13/100\n",
      "\u001b[1m939/939\u001b[0m \u001b[32m━━━━━━━━━━━━━━━━━━━━\u001b[0m\u001b[37m\u001b[0m \u001b[1m1s\u001b[0m 1ms/step - loss: 0.0050 - val_loss: 0.0123\n",
      "Epoch 14/100\n",
      "\u001b[1m939/939\u001b[0m \u001b[32m━━━━━━━━━━━━━━━━━━━━\u001b[0m\u001b[37m\u001b[0m \u001b[1m1s\u001b[0m 1ms/step - loss: 0.0053 - val_loss: 0.0115\n",
      "Epoch 15/100\n",
      "\u001b[1m939/939\u001b[0m \u001b[32m━━━━━━━━━━━━━━━━━━━━\u001b[0m\u001b[37m\u001b[0m \u001b[1m2s\u001b[0m 2ms/step - loss: 0.0045 - val_loss: 0.0116\n",
      "Epoch 16/100\n",
      "\u001b[1m939/939\u001b[0m \u001b[32m━━━━━━━━━━━━━━━━━━━━\u001b[0m\u001b[37m\u001b[0m \u001b[1m1s\u001b[0m 1ms/step - loss: 0.0056 - val_loss: 0.0108\n",
      "Epoch 17/100\n",
      "\u001b[1m939/939\u001b[0m \u001b[32m━━━━━━━━━━━━━━━━━━━━\u001b[0m\u001b[37m\u001b[0m \u001b[1m1s\u001b[0m 1ms/step - loss: 0.0050 - val_loss: 0.0093\n",
      "Epoch 18/100\n",
      "\u001b[1m939/939\u001b[0m \u001b[32m━━━━━━━━━━━━━━━━━━━━\u001b[0m\u001b[37m\u001b[0m \u001b[1m1s\u001b[0m 1ms/step - loss: 0.0042 - val_loss: 0.0088\n",
      "Epoch 19/100\n",
      "\u001b[1m939/939\u001b[0m \u001b[32m━━━━━━━━━━━━━━━━━━━━\u001b[0m\u001b[37m\u001b[0m \u001b[1m1s\u001b[0m 1ms/step - loss: 0.0042 - val_loss: 0.0080\n",
      "Epoch 20/100\n",
      "\u001b[1m939/939\u001b[0m \u001b[32m━━━━━━━━━━━━━━━━━━━━\u001b[0m\u001b[37m\u001b[0m \u001b[1m1s\u001b[0m 1ms/step - loss: 0.0036 - val_loss: 0.0081\n",
      "Epoch 21/100\n",
      "\u001b[1m939/939\u001b[0m \u001b[32m━━━━━━━━━━━━━━━━━━━━\u001b[0m\u001b[37m\u001b[0m \u001b[1m1s\u001b[0m 1ms/step - loss: 0.0032 - val_loss: 0.0070\n",
      "Epoch 22/100\n",
      "\u001b[1m939/939\u001b[0m \u001b[32m━━━━━━━━━━━━━━━━━━━━\u001b[0m\u001b[37m\u001b[0m \u001b[1m1s\u001b[0m 1ms/step - loss: 0.0043 - val_loss: 0.0064\n",
      "Epoch 23/100\n",
      "\u001b[1m939/939\u001b[0m \u001b[32m━━━━━━━━━━━━━━━━━━━━\u001b[0m\u001b[37m\u001b[0m \u001b[1m1s\u001b[0m 1ms/step - loss: 0.0034 - val_loss: 0.0087\n",
      "Epoch 24/100\n",
      "\u001b[1m939/939\u001b[0m \u001b[32m━━━━━━━━━━━━━━━━━━━━\u001b[0m\u001b[37m\u001b[0m \u001b[1m1s\u001b[0m 1ms/step - loss: 0.0045 - val_loss: 0.0106\n",
      "Epoch 25/100\n",
      "\u001b[1m939/939\u001b[0m \u001b[32m━━━━━━━━━━━━━━━━━━━━\u001b[0m\u001b[37m\u001b[0m \u001b[1m1s\u001b[0m 1ms/step - loss: 0.0019 - val_loss: 0.0070\n",
      "Epoch 26/100\n",
      "\u001b[1m939/939\u001b[0m \u001b[32m━━━━━━━━━━━━━━━━━━━━\u001b[0m\u001b[37m\u001b[0m \u001b[1m1s\u001b[0m 1ms/step - loss: 0.0020 - val_loss: 0.0069\n",
      "Epoch 27/100\n",
      "\u001b[1m939/939\u001b[0m \u001b[32m━━━━━━━━━━━━━━━━━━━━\u001b[0m\u001b[37m\u001b[0m \u001b[1m1s\u001b[0m 1ms/step - loss: 0.0023 - val_loss: 0.0045\n",
      "Epoch 28/100\n",
      "\u001b[1m939/939\u001b[0m \u001b[32m━━━━━━━━━━━━━━━━━━━━\u001b[0m\u001b[37m\u001b[0m \u001b[1m1s\u001b[0m 1ms/step - loss: 0.0022 - val_loss: 0.0047\n",
      "Epoch 29/100\n",
      "\u001b[1m939/939\u001b[0m \u001b[32m━━━━━━━━━━━━━━━━━━━━\u001b[0m\u001b[37m\u001b[0m \u001b[1m1s\u001b[0m 1ms/step - loss: 0.0020 - val_loss: 0.0052\n",
      "Epoch 30/100\n",
      "\u001b[1m939/939\u001b[0m \u001b[32m━━━━━━━━━━━━━━━━━━━━\u001b[0m\u001b[37m\u001b[0m \u001b[1m1s\u001b[0m 1ms/step - loss: 0.0022 - val_loss: 0.0059\n",
      "Epoch 31/100\n",
      "\u001b[1m939/939\u001b[0m \u001b[32m━━━━━━━━━━━━━━━━━━━━\u001b[0m\u001b[37m\u001b[0m \u001b[1m1s\u001b[0m 1ms/step - loss: 0.0023 - val_loss: 0.0045\n",
      "Epoch 32/100\n",
      "\u001b[1m939/939\u001b[0m \u001b[32m━━━━━━━━━━━━━━━━━━━━\u001b[0m\u001b[37m\u001b[0m \u001b[1m1s\u001b[0m 1ms/step - loss: 0.0020 - val_loss: 0.0038\n",
      "Epoch 33/100\n",
      "\u001b[1m939/939\u001b[0m \u001b[32m━━━━━━━━━━━━━━━━━━━━\u001b[0m\u001b[37m\u001b[0m \u001b[1m1s\u001b[0m 1ms/step - loss: 0.0016 - val_loss: 0.0049\n",
      "Epoch 34/100\n",
      "\u001b[1m939/939\u001b[0m \u001b[32m━━━━━━━━━━━━━━━━━━━━\u001b[0m\u001b[37m\u001b[0m \u001b[1m1s\u001b[0m 1ms/step - loss: 0.0016 - val_loss: 0.0046\n",
      "Epoch 35/100\n",
      "\u001b[1m939/939\u001b[0m \u001b[32m━━━━━━━━━━━━━━━━━━━━\u001b[0m\u001b[37m\u001b[0m \u001b[1m1s\u001b[0m 1ms/step - loss: 0.0016 - val_loss: 0.0033\n",
      "Epoch 36/100\n",
      "\u001b[1m939/939\u001b[0m \u001b[32m━━━━━━━━━━━━━━━━━━━━\u001b[0m\u001b[37m\u001b[0m \u001b[1m1s\u001b[0m 1ms/step - loss: 0.0018 - val_loss: 0.0029\n",
      "Epoch 37/100\n",
      "\u001b[1m939/939\u001b[0m \u001b[32m━━━━━━━━━━━━━━━━━━━━\u001b[0m\u001b[37m\u001b[0m \u001b[1m1s\u001b[0m 1ms/step - loss: 0.0020 - val_loss: 0.0038\n",
      "Epoch 38/100\n",
      "\u001b[1m939/939\u001b[0m \u001b[32m━━━━━━━━━━━━━━━━━━━━\u001b[0m\u001b[37m\u001b[0m \u001b[1m1s\u001b[0m 1ms/step - loss: 0.0017 - val_loss: 0.0031\n",
      "Epoch 39/100\n",
      "\u001b[1m939/939\u001b[0m \u001b[32m━━━━━━━━━━━━━━━━━━━━\u001b[0m\u001b[37m\u001b[0m \u001b[1m1s\u001b[0m 1ms/step - loss: 0.0016 - val_loss: 0.0023\n",
      "Epoch 40/100\n",
      "\u001b[1m939/939\u001b[0m \u001b[32m━━━━━━━━━━━━━━━━━━━━\u001b[0m\u001b[37m\u001b[0m \u001b[1m1s\u001b[0m 1ms/step - loss: 0.0013 - val_loss: 0.0030\n",
      "Epoch 41/100\n",
      "\u001b[1m939/939\u001b[0m \u001b[32m━━━━━━━━━━━━━━━━━━━━\u001b[0m\u001b[37m\u001b[0m \u001b[1m1s\u001b[0m 1ms/step - loss: 0.0018 - val_loss: 0.0026\n",
      "Epoch 42/100\n",
      "\u001b[1m939/939\u001b[0m \u001b[32m━━━━━━━━━━━━━━━━━━━━\u001b[0m\u001b[37m\u001b[0m \u001b[1m1s\u001b[0m 1ms/step - loss: 0.0016 - val_loss: 0.0034\n",
      "Epoch 43/100\n",
      "\u001b[1m939/939\u001b[0m \u001b[32m━━━━━━━━━━━━━━━━━━━━\u001b[0m\u001b[37m\u001b[0m \u001b[1m1s\u001b[0m 1ms/step - loss: 0.0020 - val_loss: 0.0034\n",
      "Epoch 44/100\n",
      "\u001b[1m939/939\u001b[0m \u001b[32m━━━━━━━━━━━━━━━━━━━━\u001b[0m\u001b[37m\u001b[0m \u001b[1m1s\u001b[0m 1ms/step - loss: 0.0014 - val_loss: 0.0047\n",
      "Epoch 45/100\n",
      "\u001b[1m939/939\u001b[0m \u001b[32m━━━━━━━━━━━━━━━━━━━━\u001b[0m\u001b[37m\u001b[0m \u001b[1m1s\u001b[0m 1ms/step - loss: 0.0013 - val_loss: 0.0025\n",
      "Epoch 46/100\n",
      "\u001b[1m939/939\u001b[0m \u001b[32m━━━━━━━━━━━━━━━━━━━━\u001b[0m\u001b[37m\u001b[0m \u001b[1m1s\u001b[0m 1ms/step - loss: 0.0017 - val_loss: 0.0027\n",
      "Epoch 47/100\n",
      "\u001b[1m939/939\u001b[0m \u001b[32m━━━━━━━━━━━━━━━━━━━━\u001b[0m\u001b[37m\u001b[0m \u001b[1m1s\u001b[0m 1ms/step - loss: 0.0018 - val_loss: 0.0019\n",
      "Epoch 48/100\n",
      "\u001b[1m939/939\u001b[0m \u001b[32m━━━━━━━━━━━━━━━━━━━━\u001b[0m\u001b[37m\u001b[0m \u001b[1m1s\u001b[0m 1ms/step - loss: 0.0019 - val_loss: 0.0024\n",
      "Epoch 49/100\n",
      "\u001b[1m939/939\u001b[0m \u001b[32m━━━━━━━━━━━━━━━━━━━━\u001b[0m\u001b[37m\u001b[0m \u001b[1m1s\u001b[0m 1ms/step - loss: 0.0012 - val_loss: 0.0031\n",
      "Epoch 50/100\n",
      "\u001b[1m939/939\u001b[0m \u001b[32m━━━━━━━━━━━━━━━━━━━━\u001b[0m\u001b[37m\u001b[0m \u001b[1m1s\u001b[0m 1ms/step - loss: 0.0015 - val_loss: 0.0021\n",
      "Epoch 51/100\n",
      "\u001b[1m939/939\u001b[0m \u001b[32m━━━━━━━━━━━━━━━━━━━━\u001b[0m\u001b[37m\u001b[0m \u001b[1m1s\u001b[0m 1ms/step - loss: 0.0017 - val_loss: 0.0024\n",
      "Epoch 52/100\n",
      "\u001b[1m939/939\u001b[0m \u001b[32m━━━━━━━━━━━━━━━━━━━━\u001b[0m\u001b[37m\u001b[0m \u001b[1m1s\u001b[0m 1ms/step - loss: 0.0019 - val_loss: 0.0038\n",
      "Epoch 53/100\n",
      "\u001b[1m939/939\u001b[0m \u001b[32m━━━━━━━━━━━━━━━━━━━━\u001b[0m\u001b[37m\u001b[0m \u001b[1m1s\u001b[0m 1ms/step - loss: 0.0012 - val_loss: 0.0035\n",
      "Epoch 54/100\n",
      "\u001b[1m939/939\u001b[0m \u001b[32m━━━━━━━━━━━━━━━━━━━━\u001b[0m\u001b[37m\u001b[0m \u001b[1m1s\u001b[0m 1ms/step - loss: 0.0014 - val_loss: 0.0023\n",
      "Epoch 55/100\n",
      "\u001b[1m939/939\u001b[0m \u001b[32m━━━━━━━━━━━━━━━━━━━━\u001b[0m\u001b[37m\u001b[0m \u001b[1m1s\u001b[0m 1ms/step - loss: 0.0013 - val_loss: 0.0017\n",
      "Epoch 56/100\n",
      "\u001b[1m939/939\u001b[0m \u001b[32m━━━━━━━━━━━━━━━━━━━━\u001b[0m\u001b[37m\u001b[0m \u001b[1m1s\u001b[0m 1ms/step - loss: 0.0011 - val_loss: 0.0014\n",
      "Epoch 57/100\n",
      "\u001b[1m939/939\u001b[0m \u001b[32m━━━━━━━━━━━━━━━━━━━━\u001b[0m\u001b[37m\u001b[0m \u001b[1m1s\u001b[0m 1ms/step - loss: 0.0017 - val_loss: 0.0051\n",
      "Epoch 58/100\n",
      "\u001b[1m939/939\u001b[0m \u001b[32m━━━━━━━━━━━━━━━━━━━━\u001b[0m\u001b[37m\u001b[0m \u001b[1m1s\u001b[0m 1ms/step - loss: 0.0015 - val_loss: 0.0026\n",
      "Epoch 59/100\n",
      "\u001b[1m939/939\u001b[0m \u001b[32m━━━━━━━━━━━━━━━━━━━━\u001b[0m\u001b[37m\u001b[0m \u001b[1m1s\u001b[0m 1ms/step - loss: 0.0015 - val_loss: 0.0031\n",
      "Epoch 60/100\n",
      "\u001b[1m939/939\u001b[0m \u001b[32m━━━━━━━━━━━━━━━━━━━━\u001b[0m\u001b[37m\u001b[0m \u001b[1m1s\u001b[0m 1ms/step - loss: 0.0015 - val_loss: 0.0037\n",
      "Epoch 61/100\n",
      "\u001b[1m939/939\u001b[0m \u001b[32m━━━━━━━━━━━━━━━━━━━━\u001b[0m\u001b[37m\u001b[0m \u001b[1m1s\u001b[0m 1ms/step - loss: 0.0013 - val_loss: 0.0028\n",
      "Epoch 62/100\n",
      "\u001b[1m939/939\u001b[0m \u001b[32m━━━━━━━━━━━━━━━━━━━━\u001b[0m\u001b[37m\u001b[0m \u001b[1m1s\u001b[0m 1ms/step - loss: 0.0020 - val_loss: 0.0063\n",
      "Epoch 63/100\n",
      "\u001b[1m939/939\u001b[0m \u001b[32m━━━━━━━━━━━━━━━━━━━━\u001b[0m\u001b[37m\u001b[0m \u001b[1m1s\u001b[0m 1ms/step - loss: 0.0012 - val_loss: 0.0030\n",
      "Epoch 64/100\n",
      "\u001b[1m939/939\u001b[0m \u001b[32m━━━━━━━━━━━━━━━━━━━━\u001b[0m\u001b[37m\u001b[0m \u001b[1m1s\u001b[0m 1ms/step - loss: 0.0014 - val_loss: 0.0052\n",
      "Epoch 65/100\n",
      "\u001b[1m939/939\u001b[0m \u001b[32m━━━━━━━━━━━━━━━━━━━━\u001b[0m\u001b[37m\u001b[0m \u001b[1m1s\u001b[0m 1ms/step - loss: 0.0013 - val_loss: 0.0054\n",
      "Epoch 66/100\n",
      "\u001b[1m939/939\u001b[0m \u001b[32m━━━━━━━━━━━━━━━━━━━━\u001b[0m\u001b[37m\u001b[0m \u001b[1m1s\u001b[0m 1ms/step - loss: 0.0013 - val_loss: 0.0011\n",
      "Epoch 67/100\n",
      "\u001b[1m939/939\u001b[0m \u001b[32m━━━━━━━━━━━━━━━━━━━━\u001b[0m\u001b[37m\u001b[0m \u001b[1m1s\u001b[0m 1ms/step - loss: 0.0017 - val_loss: 0.0016\n",
      "Epoch 68/100\n",
      "\u001b[1m939/939\u001b[0m \u001b[32m━━━━━━━━━━━━━━━━━━━━\u001b[0m\u001b[37m\u001b[0m \u001b[1m1s\u001b[0m 1ms/step - loss: 0.0014 - val_loss: 0.0025\n",
      "Epoch 69/100\n",
      "\u001b[1m939/939\u001b[0m \u001b[32m━━━━━━━━━━━━━━━━━━━━\u001b[0m\u001b[37m\u001b[0m \u001b[1m1s\u001b[0m 1ms/step - loss: 0.0013 - val_loss: 0.0019\n",
      "Epoch 70/100\n",
      "\u001b[1m939/939\u001b[0m \u001b[32m━━━━━━━━━━━━━━━━━━━━\u001b[0m\u001b[37m\u001b[0m \u001b[1m1s\u001b[0m 1ms/step - loss: 0.0019 - val_loss: 0.0014\n",
      "Epoch 71/100\n",
      "\u001b[1m939/939\u001b[0m \u001b[32m━━━━━━━━━━━━━━━━━━━━\u001b[0m\u001b[37m\u001b[0m \u001b[1m1s\u001b[0m 1ms/step - loss: 0.0021 - val_loss: 0.0016\n",
      "Epoch 72/100\n",
      "\u001b[1m939/939\u001b[0m \u001b[32m━━━━━━━━━━━━━━━━━━━━\u001b[0m\u001b[37m\u001b[0m \u001b[1m1s\u001b[0m 1ms/step - loss: 9.4564e-04 - val_loss: 0.0014\n",
      "Epoch 73/100\n",
      "\u001b[1m939/939\u001b[0m \u001b[32m━━━━━━━━━━━━━━━━━━━━\u001b[0m\u001b[37m\u001b[0m \u001b[1m1s\u001b[0m 1ms/step - loss: 0.0013 - val_loss: 9.9053e-04\n",
      "Epoch 74/100\n",
      "\u001b[1m939/939\u001b[0m \u001b[32m━━━━━━━━━━━━━━━━━━━━\u001b[0m\u001b[37m\u001b[0m \u001b[1m1s\u001b[0m 1ms/step - loss: 0.0016 - val_loss: 8.2886e-04\n",
      "Epoch 75/100\n",
      "\u001b[1m939/939\u001b[0m \u001b[32m━━━━━━━━━━━━━━━━━━━━\u001b[0m\u001b[37m\u001b[0m \u001b[1m1s\u001b[0m 1ms/step - loss: 0.0015 - val_loss: 0.0010\n",
      "Epoch 76/100\n",
      "\u001b[1m939/939\u001b[0m \u001b[32m━━━━━━━━━━━━━━━━━━━━\u001b[0m\u001b[37m\u001b[0m \u001b[1m1s\u001b[0m 1ms/step - loss: 0.0016 - val_loss: 0.0019\n",
      "Epoch 77/100\n",
      "\u001b[1m939/939\u001b[0m \u001b[32m━━━━━━━━━━━━━━━━━━━━\u001b[0m\u001b[37m\u001b[0m \u001b[1m1s\u001b[0m 1ms/step - loss: 0.0015 - val_loss: 0.0010\n",
      "Epoch 78/100\n",
      "\u001b[1m939/939\u001b[0m \u001b[32m━━━━━━━━━━━━━━━━━━━━\u001b[0m\u001b[37m\u001b[0m \u001b[1m1s\u001b[0m 1ms/step - loss: 0.0015 - val_loss: 0.0023\n",
      "Epoch 79/100\n",
      "\u001b[1m939/939\u001b[0m \u001b[32m━━━━━━━━━━━━━━━━━━━━\u001b[0m\u001b[37m\u001b[0m \u001b[1m1s\u001b[0m 1ms/step - loss: 0.0015 - val_loss: 0.0024\n",
      "Epoch 80/100\n",
      "\u001b[1m939/939\u001b[0m \u001b[32m━━━━━━━━━━━━━━━━━━━━\u001b[0m\u001b[37m\u001b[0m \u001b[1m1s\u001b[0m 1ms/step - loss: 0.0016 - val_loss: 0.0015\n",
      "Epoch 81/100\n",
      "\u001b[1m939/939\u001b[0m \u001b[32m━━━━━━━━━━━━━━━━━━━━\u001b[0m\u001b[37m\u001b[0m \u001b[1m1s\u001b[0m 1ms/step - loss: 0.0021 - val_loss: 9.6175e-04\n",
      "Epoch 82/100\n",
      "\u001b[1m939/939\u001b[0m \u001b[32m━━━━━━━━━━━━━━━━━━━━\u001b[0m\u001b[37m\u001b[0m \u001b[1m1s\u001b[0m 1ms/step - loss: 0.0020 - val_loss: 9.8713e-04\n",
      "Epoch 83/100\n",
      "\u001b[1m939/939\u001b[0m \u001b[32m━━━━━━━━━━━━━━━━━━━━\u001b[0m\u001b[37m\u001b[0m \u001b[1m1s\u001b[0m 1ms/step - loss: 0.0015 - val_loss: 0.0011\n",
      "Epoch 84/100\n",
      "\u001b[1m939/939\u001b[0m \u001b[32m━━━━━━━━━━━━━━━━━━━━\u001b[0m\u001b[37m\u001b[0m \u001b[1m1s\u001b[0m 1ms/step - loss: 0.0019 - val_loss: 0.0017\n",
      "Epoch 85/100\n",
      "\u001b[1m939/939\u001b[0m \u001b[32m━━━━━━━━━━━━━━━━━━━━\u001b[0m\u001b[37m\u001b[0m \u001b[1m1s\u001b[0m 1ms/step - loss: 0.0012 - val_loss: 0.0016\n",
      "Epoch 86/100\n",
      "\u001b[1m939/939\u001b[0m \u001b[32m━━━━━━━━━━━━━━━━━━━━\u001b[0m\u001b[37m\u001b[0m \u001b[1m1s\u001b[0m 1ms/step - loss: 0.0012 - val_loss: 0.0010\n",
      "Epoch 87/100\n",
      "\u001b[1m939/939\u001b[0m \u001b[32m━━━━━━━━━━━━━━━━━━━━\u001b[0m\u001b[37m\u001b[0m \u001b[1m1s\u001b[0m 1ms/step - loss: 0.0016 - val_loss: 0.0033\n",
      "Epoch 88/100\n",
      "\u001b[1m939/939\u001b[0m \u001b[32m━━━━━━━━━━━━━━━━━━━━\u001b[0m\u001b[37m\u001b[0m \u001b[1m1s\u001b[0m 1ms/step - loss: 0.0015 - val_loss: 0.0011\n",
      "Epoch 89/100\n",
      "\u001b[1m939/939\u001b[0m \u001b[32m━━━━━━━━━━━━━━━━━━━━\u001b[0m\u001b[37m\u001b[0m \u001b[1m1s\u001b[0m 1ms/step - loss: 0.0016 - val_loss: 0.0028\n",
      "Epoch 90/100\n",
      "\u001b[1m939/939\u001b[0m \u001b[32m━━━━━━━━━━━━━━━━━━━━\u001b[0m\u001b[37m\u001b[0m \u001b[1m1s\u001b[0m 1ms/step - loss: 0.0012 - val_loss: 0.0013\n",
      "Epoch 91/100\n",
      "\u001b[1m939/939\u001b[0m \u001b[32m━━━━━━━━━━━━━━━━━━━━\u001b[0m\u001b[37m\u001b[0m \u001b[1m1s\u001b[0m 1ms/step - loss: 0.0013 - val_loss: 0.0015\n",
      "Epoch 92/100\n",
      "\u001b[1m939/939\u001b[0m \u001b[32m━━━━━━━━━━━━━━━━━━━━\u001b[0m\u001b[37m\u001b[0m \u001b[1m1s\u001b[0m 1ms/step - loss: 0.0018 - val_loss: 9.7093e-04\n",
      "Epoch 93/100\n",
      "\u001b[1m939/939\u001b[0m \u001b[32m━━━━━━━━━━━━━━━━━━━━\u001b[0m\u001b[37m\u001b[0m \u001b[1m1s\u001b[0m 1ms/step - loss: 0.0010 - val_loss: 0.0030\n",
      "Epoch 94/100\n",
      "\u001b[1m939/939\u001b[0m \u001b[32m━━━━━━━━━━━━━━━━━━━━\u001b[0m\u001b[37m\u001b[0m \u001b[1m1s\u001b[0m 1ms/step - loss: 9.8382e-04 - val_loss: 0.0014\n",
      "Epoch 95/100\n",
      "\u001b[1m939/939\u001b[0m \u001b[32m━━━━━━━━━━━━━━━━━━━━\u001b[0m\u001b[37m\u001b[0m \u001b[1m1s\u001b[0m 1ms/step - loss: 0.0013 - val_loss: 0.0032\n",
      "Epoch 96/100\n",
      "\u001b[1m939/939\u001b[0m \u001b[32m━━━━━━━━━━━━━━━━━━━━\u001b[0m\u001b[37m\u001b[0m \u001b[1m1s\u001b[0m 1ms/step - loss: 0.0015 - val_loss: 0.0019\n",
      "Epoch 97/100\n",
      "\u001b[1m939/939\u001b[0m \u001b[32m━━━━━━━━━━━━━━━━━━━━\u001b[0m\u001b[37m\u001b[0m \u001b[1m1s\u001b[0m 1ms/step - loss: 0.0026 - val_loss: 0.0046\n",
      "Epoch 98/100\n",
      "\u001b[1m939/939\u001b[0m \u001b[32m━━━━━━━━━━━━━━━━━━━━\u001b[0m\u001b[37m\u001b[0m \u001b[1m1s\u001b[0m 1ms/step - loss: 0.0017 - val_loss: 0.0025\n",
      "Epoch 99/100\n",
      "\u001b[1m939/939\u001b[0m \u001b[32m━━━━━━━━━━━━━━━━━━━━\u001b[0m\u001b[37m\u001b[0m \u001b[1m1s\u001b[0m 1ms/step - loss: 0.0016 - val_loss: 0.0012\n",
      "Epoch 100/100\n",
      "\u001b[1m939/939\u001b[0m \u001b[32m━━━━━━━━━━━━━━━━━━━━\u001b[0m\u001b[37m\u001b[0m \u001b[1m1s\u001b[0m 1ms/step - loss: 0.0014 - val_loss: 0.0027\n"
     ]
    }
   ],
   "source": [
    "from tensorflow.keras.models import Sequential\n",
    "from tensorflow.keras.layers import Conv1D, MaxPooling1D, Flatten, Dense\n",
    "\n",
    "# Ensure trainX and testX have the shape (samples, time steps, features)\n",
    "print(trainX.shape)  # Should be (samples, 1, features)\n",
    "print(testX.shape)   # Should be (samples, 1, features)\n",
    "\n",
    "# CNN Model\n",
    "model = Sequential()\n",
    "#for soh,cap,cycle,lookback\n",
    "model.add(Conv1D(filters=64, kernel_size=2, activation='relu', input_shape=(trainX.shape[1], trainX.shape[2])))\n",
    "#for soh,cap,cyc, no lookback\n",
    "#model.add(Conv1D(filters=64, kernel_size=1, activation='relu', input_shape=(1,2)))\n",
    "\n",
    "model.add(MaxPooling1D(pool_size=2))  # Note: pool_size=1 since we have only 1 time step\n",
    "model.add(Flatten())\n",
    "model.add(Dense(50, activation='relu'))\n",
    "model.add(Dense(1))\n",
    "\n",
    "model.compile(loss='mae', optimizer='adam')\n",
    "\n",
    "history = model.fit(trainX, trainY, epochs=100, batch_size=20, validation_data=(testX, testY), verbose=1, shuffle=False)\n",
    "\n"
   ]
  },
  {
   "cell_type": "code",
   "execution_count": 487,
   "metadata": {},
   "outputs": [],
   "source": [
    "# save model architecture\n",
    "# save model architecture\n",
    "#model_json = model.to_json()\n",
    "#open('50%/model/B05_model.json', 'w').write(model_json)\n",
    "\n",
    "# save model's learned weights\n",
    "#model.save_weights('50%/model/B05_weights.weights.h5', overwrite=True)"
   ]
  },
  {
   "cell_type": "code",
   "execution_count": 488,
   "metadata": {},
   "outputs": [],
   "source": [
    "from keras.models import model_from_json \n",
    "\n",
    "#json_file = open(\"50%/model/B05_model.json\", \"r\")\n",
    "#loaded_model_json = json_file.read() \n",
    "#json_file.close()\n",
    "#loaded_model = model_from_json(loaded_model_json)\n",
    " \n",
    "# model weight load \n",
    "#loaded_model.load_weights(\"50%/model/B05_weights.weights.h5\")\n",
    "#print(\"Loaded model from disk\")"
   ]
  },
  {
   "cell_type": "code",
   "execution_count": 489,
   "metadata": {},
   "outputs": [
    {
     "data": {
      "image/png": "[encoded data removed]",
      "text/plain": [
       "<Figure size 640x480 with 1 Axes>"
      ]
     },
     "metadata": {},
     "output_type": "display_data"
    }
   ],
   "source": [
    "plt.plot(history.history['loss'], label='train')\n",
    "plt.plot(history.history['val_loss'], label='test')\n",
    "plt.axis([-5, 100, 0, 0.07])\n",
    "plt.legend() \n",
    "plt.show()"
   ]
  },
  {
   "cell_type": "code",
   "execution_count": 490,
   "metadata": {},
   "outputs": [
    {
     "name": "stdout",
     "output_type": "stream",
     "text": [
      "\u001b[1m147/147\u001b[0m \u001b[32m━━━━━━━━━━━━━━━━━━━━\u001b[0m\u001b[37m\u001b[0m \u001b[1m0s\u001b[0m 897us/step\n",
      "\u001b[1m587/587\u001b[0m \u001b[32m━━━━━━━━━━━━━━━━━━━━\u001b[0m\u001b[37m\u001b[0m \u001b[1m0s\u001b[0m 648us/step\n"
     ]
    },
    {
     "data": {
      "image/png": "[encoded data removed]",
      "text/plain": [
       "<Figure size 640x480 with 1 Axes>"
      ]
     },
     "metadata": {},
     "output_type": "display_data"
    }
   ],
   "source": [
    "yhat = model.predict(testX)\n",
    "tyhat = model.predict(trainX)\n",
    "plt.plot(yhat, label='Prediction')\n",
    "plt.plot(testY, label='Real data')\n",
    "plt.legend()\n",
    "plt.show()"
   ]
  },
  {
   "cell_type": "code",
   "execution_count": 491,
   "metadata": {},
   "outputs": [
    {
     "name": "stdout",
     "output_type": "stream",
     "text": [
      "\u001b[1m147/147\u001b[0m \u001b[32m━━━━━━━━━━━━━━━━━━━━\u001b[0m\u001b[37m\u001b[0m \u001b[1m0s\u001b[0m 741us/step\n",
      "\u001b[1m587/587\u001b[0m \u001b[32m━━━━━━━━━━━━━━━━━━━━\u001b[0m\u001b[37m\u001b[0m \u001b[1m0s\u001b[0m 647us/step\n"
     ]
    },
    {
     "data": {
      "image/png": "[encoded data removed]",
      "text/plain": [
       "<Figure size 1000x600 with 1 Axes>"
      ]
     },
     "metadata": {},
     "output_type": "display_data"
    }
   ],
   "source": [
    "import numpy as np\n",
    "\n",
    "# Predict using the model\n",
    "yhat = model.predict(testX)\n",
    "tyhat = model.predict(trainX)\n",
    "\n",
    "# Plot predictions vs real data\n",
    "plt.figure(figsize=(10, 6))  # Optional: Adjust figure size for better readability\n",
    "plt.plot(yhat, label='Prediction', color='blue')\n",
    "plt.plot(testY, label='Real data', color='orange')\n",
    "plt.legend()\n",
    "\n",
    "# Set y-axis ticks at intervals of 0.05, ensuring 10 intervals\n",
    "y_min = min(min(yhat), min(testY))  # Minimum value from predictions and actual data\n",
    "y_max = max(max(yhat), max(testY))  # Maximum value from predictions and actual data\n",
    "\n",
    "# Adjust limits to ensure at least 10 intervals\n",
    "y_min = np.floor(y_min / 0.05) * 0.05\n",
    "y_max = np.ceil(y_max / 0.05) * 0.05\n",
    "if (y_max - y_min) < 0.5:  # Ensure at least 10 intervals of 0.05\n",
    "    y_max = y_min + 0.5\n",
    "plt.ylim(y_min, y_max)\n",
    "\n",
    "# Set y-axis ticks at intervals of 0.05\n",
    "plt.yticks(np.arange(y_min, y_max + 0.05, 0.05))\n",
    "\n",
    "# Set x-axis ticks at intervals of 1000\n",
    "x_min, x_max = plt.xlim()  # Get current x-axis limits\n",
    "plt.xticks(np.arange(x_min, x_max, 1000))\n",
    "\n",
    "# Add labels and title\n",
    "plt.xlabel('Data Points')\n",
    "plt.ylabel('SOH')\n",
    "plt.title('Predicted vs Real SOH')\n",
    "\n",
    "plt.show()\n"
   ]
  },
  {
   "cell_type": "code",
   "execution_count": 492,
   "metadata": {},
   "outputs": [
    {
     "name": "stdout",
     "output_type": "stream",
     "text": [
      "Shape of train data : (18779, 3, 2)\n",
      "Shape of prediction : (4693, 1)\n",
      "Shape of real data : (4693,)\n",
      "[[0.6338176]\n",
      " [0.6338176]\n",
      " [0.6338176]\n",
      " ...\n",
      " [0.6151129]\n",
      " [0.6151129]\n",
      " [0.6151129]]\n"
     ]
    }
   ],
   "source": [
    "print(\"Shape of train data :\", trainX.shape)\n",
    "print(\"Shape of prediction :\", yhat.shape)\n",
    "print(\"Shape of real data :\", testY.shape)\n",
    "print(yhat)"
   ]
  },
  {
   "cell_type": "code",
   "execution_count": 493,
   "metadata": {},
   "outputs": [
    {
     "name": "stdout",
     "output_type": "stream",
     "text": [
      "Test RMSE: 0.003\n",
      "Test MAE: 0.003\n"
     ]
    }
   ],
   "source": [
    "rmse = math.sqrt(mean_squared_error(testY, yhat))\n",
    "mae = mean_absolute_error(testY, yhat)\n",
    "print('Test RMSE: %.3f' % rmse)\n",
    "print('Test MAE: %.3f' % mae)"
   ]
  },
  {
   "cell_type": "code",
   "execution_count": 494,
   "metadata": {},
   "outputs": [
    {
     "name": "stdout",
     "output_type": "stream",
     "text": [
      "Test R² Score: 0.932\n"
     ]
    }
   ],
   "source": [
    "from sklearn.metrics import r2_score\n",
    "r2 = r2_score(testY, yhat)\n",
    "print('Test R² Score: %.3f' % r2)\n"
   ]
  },
  {
   "cell_type": "code",
   "execution_count": 495,
   "metadata": {},
   "outputs": [
    {
     "name": "stdout",
     "output_type": "stream",
     "text": [
      "Test MAPE: 1.948\n"
     ]
    }
   ],
   "source": [
    "mape = np.mean(np.abs((testY - yhat) / testY)) * 100\n",
    "print('Test MAPE: %.3f' % mape)\n"
   ]
  },
  {
   "cell_type": "code",
   "execution_count": 496,
   "metadata": {},
   "outputs": [
    {
     "name": "stdout",
     "output_type": "stream",
     "text": [
      "Test Median Absolute Error: 0.003\n"
     ]
    }
   ],
   "source": [
    "from sklearn.metrics import median_absolute_error\n",
    "med_ae = median_absolute_error(testY, yhat)\n",
    "print('Test Median Absolute Error: %.3f' % med_ae)\n"
   ]
  }
 ],
 "metadata": {
  "kernelspec": {
   "display_name": "Python 3",
   "language": "python",
   "name": "python3"
  },
  "language_info": {
   "codemirror_mode": {
    "name": "ipython",
    "version": 3
   },
   "file_extension": ".py",
   "mimetype": "text/x-python",
   "name": "python",
   "nbconvert_exporter": "python",
   "pygments_lexer": "ipython3",
   "version": "3.12.1"
  }
 },
 "nbformat": 4,
 "nbformat_minor": 2
}
